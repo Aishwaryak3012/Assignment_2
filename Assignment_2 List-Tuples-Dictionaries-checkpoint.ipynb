{
 "cells": [
  {
   "cell_type": "markdown",
   "id": "8bb99339",
   "metadata": {},
   "source": [
    "### Write a Python program to get a list, sorted in increasing order by the last element in each tuple from a given list of non-empty tuples\n"
   ]
  },
  {
   "cell_type": "code",
   "execution_count": 1,
   "id": "bfa1e101",
   "metadata": {},
   "outputs": [
    {
     "name": "stdout",
     "output_type": "stream",
     "text": [
      "enter the list : [(2, 5), (1, 2), (4, 4), (2, 3), (2, 1)]\n",
      "[(2, 1), (1, 2), (2, 3), (4, 4), (2, 5)]\n"
     ]
    }
   ],
   "source": [
    "l = eval(input(\"enter the list : \",))\n",
    "\n",
    "for i in range(len(l)):\n",
    "    for j in range(len(l)):\n",
    "        if l[i][1] < l[j][1]:\n",
    "            l[i],l[j] = l[j],l[i]\n",
    "print(l)"
   ]
  },
  {
   "cell_type": "markdown",
   "id": "d2c03474",
   "metadata": {},
   "source": [
    "# OR"
   ]
  },
  {
   "cell_type": "code",
   "execution_count": 5,
   "id": "9cda0568",
   "metadata": {},
   "outputs": [
    {
     "name": "stdout",
     "output_type": "stream",
     "text": [
      "what will be the len of list:5\n",
      "enter tuple seperated by commas without brackets:2,5\n",
      "enter tuple seperated by commas without brackets:1,2\n",
      "enter tuple seperated by commas without brackets:4,4\n",
      "enter tuple seperated by commas without brackets:2,3\n",
      "enter tuple seperated by commas without brackets:2,1\n",
      "List of tuple: [(2, 5), (1, 2), (4, 4), (2, 3), (2, 1)]\n",
      "List sorted in increasing order by the last element in each tuple:\n",
      " [(2, 1), (1, 2), (2, 3), (4, 4), (2, 5)]\n"
     ]
    }
   ],
   "source": [
    "Tup_list = []\n",
    "n = int(input(\"what will be the len of list:\"))\n",
    "for i in range (0,n):\n",
    "    ele=input(\"enter tuple seperated by commas without brackets:\").split(\",\")\n",
    "    ele = tuple(map(int,ele))\n",
    "    Tup_list.append(tuple(ele))\n",
    "print(\"List of tuple:\",Tup_list)\n",
    "\n",
    "def last(n): \n",
    "    return n[-1]\n",
    "\n",
    "def sort_list_last(tuples):\n",
    "    return sorted(tuples, key=last)\n",
    "\n",
    "print(\"List sorted in increasing order by the last element in each tuple:\\n\",sort_list_last(Tup_list))"
   ]
  },
  {
   "cell_type": "markdown",
   "id": "f523319a",
   "metadata": {},
   "source": [
    "### Write a Python program to print a dictionary whose keys should be the alphabet from a-z and the value should be corresponding ASCII values"
   ]
  },
  {
   "cell_type": "code",
   "execution_count": 26,
   "id": "04d84319",
   "metadata": {},
   "outputs": [
    {
     "name": "stdout",
     "output_type": "stream",
     "text": [
      "Enter a string: a b c d e f g h i j k l m n o p q r s t u v w x y z\n",
      "{'a': 97, 'b': 98, 'c': 99, 'd': 100, 'e': 101, 'f': 102, 'g': 103, 'h': 104, 'i': 105, 'j': 106, 'k': 107, 'l': 108, 'm': 109, 'n': 110, 'o': 111, 'p': 112, 'q': 113, 'r': 114, 's': 115, 't': 116, 'u': 117, 'v': 118, 'w': 119, 'x': 120, 'y': 121, 'z': 122}\n"
     ]
    }
   ],
   "source": [
    "ascii_dict = {}\n",
    "\n",
    "def create_dict(input_string):\n",
    "    for i in input_string:\n",
    "        if 'a' <= i <= 'z':\n",
    "            ascii_dict[i] = ord(i)\n",
    "    return ascii_dict\n",
    "\n",
    "user_input = input(\"Enter a string: \")\n",
    "ascii_dict = create_dict(user_input)\n",
    "print(ascii_dict)"
   ]
  },
  {
   "cell_type": "markdown",
   "id": "81204e2f",
   "metadata": {},
   "source": [
    "# OR"
   ]
  },
  {
   "cell_type": "code",
   "execution_count": 25,
   "id": "69c4023f",
   "metadata": {},
   "outputs": [
    {
     "name": "stdout",
     "output_type": "stream",
     "text": [
      "ASCII Dict: {'a': 97, 'b': 98, 'c': 99, 'd': 100, 'e': 101, 'f': 102, 'g': 103, 'h': 104, 'i': 105, 'j': 106, 'k': 107, 'l': 108, 'm': 109, 'n': 110, 'o': 111, 'p': 112, 'q': 113, 'r': 114, 's': 115, 't': 116, 'u': 117, 'v': 118, 'w': 119, 'x': 120, 'y': 121, 'z': 122}\n"
     ]
    }
   ],
   "source": [
    "ascii_dict = {}\n",
    "def create_ascii_dict():\n",
    "    \n",
    "    for char in range(97,123):\n",
    "        ascii_dict[chr(char)]=char\n",
    "        #key=asciidict.keys()\n",
    "        #value=asciidict.values()\n",
    "    return ascii_dict\n",
    "\n",
    "ascii_dictionary = create_ascii_dict()\n",
    "print('ASCII Dict:', ascii_dictionary)"
   ]
  },
  {
   "cell_type": "code",
   "execution_count": null,
   "id": "a964b99a",
   "metadata": {},
   "outputs": [],
   "source": []
  }
 ],
 "metadata": {
  "kernelspec": {
   "display_name": "Python 3 (ipykernel)",
   "language": "python",
   "name": "python3"
  },
  "language_info": {
   "codemirror_mode": {
    "name": "ipython",
    "version": 3
   },
   "file_extension": ".py",
   "mimetype": "text/x-python",
   "name": "python",
   "nbconvert_exporter": "python",
   "pygments_lexer": "ipython3",
   "version": "3.10.9"
  }
 },
 "nbformat": 4,
 "nbformat_minor": 5
}
